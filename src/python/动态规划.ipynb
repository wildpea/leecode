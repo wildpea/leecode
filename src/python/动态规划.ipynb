{
 "cells": [
  {
   "cell_type": "code",
   "execution_count": 10,
   "metadata": {},
   "outputs": [
    {
     "name": "stdout",
     "output_type": "stream",
     "text": [
      "[-2, 1, -2, 4, 3, 5, 6, 1, 5]\n",
      "6\n",
      "6\n"
     ]
    }
   ],
   "source": [
    "#-*- coding:utf-8 -*-\n",
    "\n",
    "\n",
    "class Solution:\n",
    "    #最大子序列\n",
    "    def maxSubArray(self, nums) -> int:\n",
    "        t=nums[0]\n",
    "        rst = []\n",
    "        for i in range(len(nums)):\n",
    "            if i == 0:\n",
    "                rst.append(nums[i])\n",
    "                continue\n",
    "            rst.append(max(0, rst[i-1]) + nums[i])\n",
    "            t=max(t,rst[i])\n",
    "        return t\n",
    "    \n",
    "    def massage(self, nums: List[int]) -> int:\n",
    "        \n",
    "        \n",
    "        \n",
    "s = Solution()\n",
    "i1=[-2,1,-3,4,-1,2,1,-5,4]\n",
    "print(s.maxSubArray(i1))\n"
   ]
  },
  {
   "cell_type": "code",
   "execution_count": null,
   "metadata": {},
   "outputs": [],
   "source": []
  }
 ],
 "metadata": {
  "kernelspec": {
   "display_name": "Python 3",
   "language": "python",
   "name": "python3"
  },
  "language_info": {
   "codemirror_mode": {
    "name": "ipython",
    "version": 3
   },
   "file_extension": ".py",
   "mimetype": "text/x-python",
   "name": "python",
   "nbconvert_exporter": "python",
   "pygments_lexer": "ipython3",
   "version": "3.8.5"
  }
 },
 "nbformat": 4,
 "nbformat_minor": 4
}
