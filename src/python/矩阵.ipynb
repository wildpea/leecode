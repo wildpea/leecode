{
 "cells": [
  {
   "cell_type": "code",
   "execution_count": 24,
   "metadata": {},
   "outputs": [
    {
     "name": "stdout",
     "output_type": "stream",
     "text": [
      "[[0, 1, 0], [1, 1, 1], [0, 1, 0]]\n"
     ]
    }
   ],
   "source": [
    "#-*- coding:utf-8 -*-\n",
    "\n",
    "class Solution:\n",
    "    #转置矩阵\n",
    "    def transpose(self, A):\n",
    "        B = []\n",
    "        if len(A) == 0:\n",
    "            return B\n",
    "        \n",
    "        for j in range(len(A[0])):\n",
    "            B.append([])\n",
    "            \n",
    "        for i in range(len(A)):\n",
    "            for j in range(len(A[i])):\n",
    "                print(j)\n",
    "                B[j].append(A[i][j])\n",
    "        return B\n",
    "    \n",
    "    #1 <= matrix.length <= 300\n",
    "    #1 <= matrix[0].length <= 300\n",
    "    #-1000 <= matrix[i] <= 1000\n",
    "    #-10^8 <= target <= 10^8\n",
    "    def numSubmatrixSumTarget(self, matrix, target):\n",
    "        print(matrix)\n",
    "        \n",
    "\n",
    "s = Solution()\n",
    "\n",
    "matix=[[0,1,0],[1,1,1],[0,1,0]]   #4\n",
    "target=0\n",
    "s.numSubmatrixSumTarget(matix, target)\n",
    "\n",
    "#matix=[[1,2,3],[4,5,6],[7,8,9]]  #[[1,4,7],[2,5,8],[3,6,9]]\n",
    "#matix=[[1,2,3],[4,5,6]]    #[[1,4],[2,5],[3,6]]\n",
    "#s.transpose(matix)\n"
   ]
  },
  {
   "cell_type": "code",
   "execution_count": 29,
   "metadata": {},
   "outputs": [
    {
     "name": "stdout",
     "output_type": "stream",
     "text": [
      "[[1, 2, 1], [4, 3, 4], [3, 2, 1], [1, 1, 1]]\n",
      "1\n",
      "[[5, 5, 5], [5, 5, 5], [5, 5, 5], [5, 5, 5]]\n",
      "5\n",
      "5\n",
      "[[5, 5, 5], [5, 5, 5], [5, 5, 5], [10, 10, 10]]\n",
      "10\n",
      "5\n"
     ]
    }
   ],
   "source": [
    "class SubrectangleQueries:\n",
    "\n",
    "    def __init__(self, rectangle):\n",
    "        self.matrix = rectangle\n",
    "        print(self.matrix)\n",
    "\n",
    "    def updateSubrectangle(self, row1, col1, row2, col2, newValue):\n",
    "        for i in range(row1,row2+1):\n",
    "            for j in range(col1,col2+1):\n",
    "                self.matrix[i][j] = newValue\n",
    "        print(self.matrix)\n",
    "\n",
    "    def getValue(self, row, col):\n",
    "        return self.matrix[row][col]\n",
    "\n",
    "        \n",
    "subrectangleQueries = SubrectangleQueries([[1,2,1],[4,3,4],[3,2,1],[1,1,1]])  \n",
    "print(subrectangleQueries.getValue(0, 2)) # 1\n",
    "subrectangleQueries.updateSubrectangle(0, 0, 3, 2, 5);\n",
    "print(subrectangleQueries.getValue(0, 2)) # 5\n",
    "print(subrectangleQueries.getValue(3, 1)) # 5\n",
    "subrectangleQueries.updateSubrectangle(3, 0, 3, 2, 10);\n",
    "print(subrectangleQueries.getValue(3, 1)) # 10\n",
    "print(subrectangleQueries.getValue(0, 2)) # 5\n"
   ]
  },
  {
   "cell_type": "code",
   "execution_count": null,
   "metadata": {},
   "outputs": [],
   "source": []
  }
 ],
 "metadata": {
  "kernelspec": {
   "display_name": "Python 3",
   "language": "python",
   "name": "python3"
  },
  "language_info": {
   "codemirror_mode": {
    "name": "ipython",
    "version": 3
   },
   "file_extension": ".py",
   "mimetype": "text/x-python",
   "name": "python",
   "nbconvert_exporter": "python",
   "pygments_lexer": "ipython3",
   "version": "3.8.5"
  }
 },
 "nbformat": 4,
 "nbformat_minor": 4
}
